{
 "cells": [
  {
   "cell_type": "code",
   "execution_count": 59,
   "metadata": {},
   "outputs": [],
   "source": [
    "import pandas as pd \n",
    "import numpy as np \n",
    "import matplotlib.pyplot as plt \n",
    "import plotly.express as px\n",
    "import seaborn as sns\n",
    "sns.set()\n",
    "plt.style.use('fivethirtyeight')"
   ]
  },
  {
   "cell_type": "code",
   "execution_count": 60,
   "metadata": {},
   "outputs": [
    {
     "data": {
      "text/html": [
       "<div>\n",
       "<style scoped>\n",
       "    .dataframe tbody tr th:only-of-type {\n",
       "        vertical-align: middle;\n",
       "    }\n",
       "\n",
       "    .dataframe tbody tr th {\n",
       "        vertical-align: top;\n",
       "    }\n",
       "\n",
       "    .dataframe thead th {\n",
       "        text-align: right;\n",
       "    }\n",
       "</style>\n",
       "<table border=\"1\" class=\"dataframe\">\n",
       "  <thead>\n",
       "    <tr style=\"text-align: right;\">\n",
       "      <th></th>\n",
       "      <th>Date</th>\n",
       "      <th>Open</th>\n",
       "      <th>High</th>\n",
       "      <th>Low</th>\n",
       "      <th>Close</th>\n",
       "      <th>Adj Close</th>\n",
       "      <th>Volume</th>\n",
       "    </tr>\n",
       "  </thead>\n",
       "  <tbody>\n",
       "    <tr>\n",
       "      <th>0</th>\n",
       "      <td>2022-12-30</td>\n",
       "      <td>24.420000</td>\n",
       "      <td>24.850000</td>\n",
       "      <td>24.240000</td>\n",
       "      <td>24.730000</td>\n",
       "      <td>24.730000</td>\n",
       "      <td>20474100</td>\n",
       "    </tr>\n",
       "    <tr>\n",
       "      <th>1</th>\n",
       "      <td>2023-01-03</td>\n",
       "      <td>25.370001</td>\n",
       "      <td>25.750000</td>\n",
       "      <td>25.020000</td>\n",
       "      <td>25.360001</td>\n",
       "      <td>25.360001</td>\n",
       "      <td>22155300</td>\n",
       "    </tr>\n",
       "    <tr>\n",
       "      <th>2</th>\n",
       "      <td>2023-01-04</td>\n",
       "      <td>25.730000</td>\n",
       "      <td>25.969999</td>\n",
       "      <td>25.320000</td>\n",
       "      <td>25.910000</td>\n",
       "      <td>25.910000</td>\n",
       "      <td>14816000</td>\n",
       "    </tr>\n",
       "    <tr>\n",
       "      <th>3</th>\n",
       "      <td>2023-01-05</td>\n",
       "      <td>25.730000</td>\n",
       "      <td>26.010000</td>\n",
       "      <td>25.549999</td>\n",
       "      <td>25.549999</td>\n",
       "      <td>25.549999</td>\n",
       "      <td>9942000</td>\n",
       "    </tr>\n",
       "    <tr>\n",
       "      <th>4</th>\n",
       "      <td>2023-01-06</td>\n",
       "      <td>25.860001</td>\n",
       "      <td>26.540001</td>\n",
       "      <td>25.400000</td>\n",
       "      <td>26.400000</td>\n",
       "      <td>26.400000</td>\n",
       "      <td>19443800</td>\n",
       "    </tr>\n",
       "    <tr>\n",
       "      <th>...</th>\n",
       "      <td>...</td>\n",
       "      <td>...</td>\n",
       "      <td>...</td>\n",
       "      <td>...</td>\n",
       "      <td>...</td>\n",
       "      <td>...</td>\n",
       "      <td>...</td>\n",
       "    </tr>\n",
       "    <tr>\n",
       "      <th>246</th>\n",
       "      <td>2023-12-22</td>\n",
       "      <td>61.700001</td>\n",
       "      <td>62.235001</td>\n",
       "      <td>61.279999</td>\n",
       "      <td>61.709999</td>\n",
       "      <td>61.709999</td>\n",
       "      <td>14709400</td>\n",
       "    </tr>\n",
       "    <tr>\n",
       "      <th>247</th>\n",
       "      <td>2023-12-26</td>\n",
       "      <td>61.709999</td>\n",
       "      <td>62.200001</td>\n",
       "      <td>61.313999</td>\n",
       "      <td>61.980000</td>\n",
       "      <td>61.980000</td>\n",
       "      <td>16077200</td>\n",
       "    </tr>\n",
       "    <tr>\n",
       "      <th>248</th>\n",
       "      <td>2023-12-27</td>\n",
       "      <td>62.000000</td>\n",
       "      <td>63.430000</td>\n",
       "      <td>62.000000</td>\n",
       "      <td>63.279999</td>\n",
       "      <td>63.279999</td>\n",
       "      <td>20806000</td>\n",
       "    </tr>\n",
       "    <tr>\n",
       "      <th>249</th>\n",
       "      <td>2023-12-28</td>\n",
       "      <td>63.450001</td>\n",
       "      <td>63.529999</td>\n",
       "      <td>62.834999</td>\n",
       "      <td>63.139999</td>\n",
       "      <td>63.139999</td>\n",
       "      <td>13795600</td>\n",
       "    </tr>\n",
       "    <tr>\n",
       "      <th>250</th>\n",
       "      <td>2023-12-29</td>\n",
       "      <td>62.360001</td>\n",
       "      <td>63.139999</td>\n",
       "      <td>61.299999</td>\n",
       "      <td>61.570000</td>\n",
       "      <td>61.570000</td>\n",
       "      <td>21602500</td>\n",
       "    </tr>\n",
       "  </tbody>\n",
       "</table>\n",
       "<p>251 rows × 7 columns</p>\n",
       "</div>"
      ],
      "text/plain": [
       "           Date       Open       High        Low      Close  Adj Close  \\\n",
       "0    2022-12-30  24.420000  24.850000  24.240000  24.730000  24.730000   \n",
       "1    2023-01-03  25.370001  25.750000  25.020000  25.360001  25.360001   \n",
       "2    2023-01-04  25.730000  25.969999  25.320000  25.910000  25.910000   \n",
       "3    2023-01-05  25.730000  26.010000  25.549999  25.549999  25.549999   \n",
       "4    2023-01-06  25.860001  26.540001  25.400000  26.400000  26.400000   \n",
       "..          ...        ...        ...        ...        ...        ...   \n",
       "246  2023-12-22  61.700001  62.235001  61.279999  61.709999  61.709999   \n",
       "247  2023-12-26  61.709999  62.200001  61.313999  61.980000  61.980000   \n",
       "248  2023-12-27  62.000000  63.430000  62.000000  63.279999  63.279999   \n",
       "249  2023-12-28  63.450001  63.529999  62.834999  63.139999  63.139999   \n",
       "250  2023-12-29  62.360001  63.139999  61.299999  61.570000  61.570000   \n",
       "\n",
       "       Volume  \n",
       "0    20474100  \n",
       "1    22155300  \n",
       "2    14816000  \n",
       "3     9942000  \n",
       "4    19443800  \n",
       "..        ...  \n",
       "246  14709400  \n",
       "247  16077200  \n",
       "248  20806000  \n",
       "249  13795600  \n",
       "250  21602500  \n",
       "\n",
       "[251 rows x 7 columns]"
      ]
     },
     "execution_count": 60,
     "metadata": {},
     "output_type": "execute_result"
    }
   ],
   "source": [
    "df=pd.read_csv(\"UBER.csv\")\n",
    "df"
   ]
  },
  {
   "cell_type": "code",
   "execution_count": 61,
   "metadata": {},
   "outputs": [
    {
     "data": {
      "text/html": [
       "<div>\n",
       "<style scoped>\n",
       "    .dataframe tbody tr th:only-of-type {\n",
       "        vertical-align: middle;\n",
       "    }\n",
       "\n",
       "    .dataframe tbody tr th {\n",
       "        vertical-align: top;\n",
       "    }\n",
       "\n",
       "    .dataframe thead th {\n",
       "        text-align: right;\n",
       "    }\n",
       "</style>\n",
       "<table border=\"1\" class=\"dataframe\">\n",
       "  <thead>\n",
       "    <tr style=\"text-align: right;\">\n",
       "      <th></th>\n",
       "      <th>Date</th>\n",
       "      <th>Open</th>\n",
       "      <th>High</th>\n",
       "      <th>Low</th>\n",
       "      <th>Close</th>\n",
       "      <th>Adj Close</th>\n",
       "      <th>Volume</th>\n",
       "    </tr>\n",
       "  </thead>\n",
       "  <tbody>\n",
       "    <tr>\n",
       "      <th>0</th>\n",
       "      <td>2022-12-30</td>\n",
       "      <td>24.420000</td>\n",
       "      <td>24.850000</td>\n",
       "      <td>24.240000</td>\n",
       "      <td>24.730000</td>\n",
       "      <td>24.730000</td>\n",
       "      <td>20474100</td>\n",
       "    </tr>\n",
       "    <tr>\n",
       "      <th>1</th>\n",
       "      <td>2023-01-03</td>\n",
       "      <td>25.370001</td>\n",
       "      <td>25.750000</td>\n",
       "      <td>25.020000</td>\n",
       "      <td>25.360001</td>\n",
       "      <td>25.360001</td>\n",
       "      <td>22155300</td>\n",
       "    </tr>\n",
       "    <tr>\n",
       "      <th>2</th>\n",
       "      <td>2023-01-04</td>\n",
       "      <td>25.730000</td>\n",
       "      <td>25.969999</td>\n",
       "      <td>25.320000</td>\n",
       "      <td>25.910000</td>\n",
       "      <td>25.910000</td>\n",
       "      <td>14816000</td>\n",
       "    </tr>\n",
       "    <tr>\n",
       "      <th>3</th>\n",
       "      <td>2023-01-05</td>\n",
       "      <td>25.730000</td>\n",
       "      <td>26.010000</td>\n",
       "      <td>25.549999</td>\n",
       "      <td>25.549999</td>\n",
       "      <td>25.549999</td>\n",
       "      <td>9942000</td>\n",
       "    </tr>\n",
       "    <tr>\n",
       "      <th>4</th>\n",
       "      <td>2023-01-06</td>\n",
       "      <td>25.860001</td>\n",
       "      <td>26.540001</td>\n",
       "      <td>25.400000</td>\n",
       "      <td>26.400000</td>\n",
       "      <td>26.400000</td>\n",
       "      <td>19443800</td>\n",
       "    </tr>\n",
       "    <tr>\n",
       "      <th>5</th>\n",
       "      <td>2023-01-09</td>\n",
       "      <td>27.299999</td>\n",
       "      <td>28.049999</td>\n",
       "      <td>27.150000</td>\n",
       "      <td>27.400000</td>\n",
       "      <td>27.400000</td>\n",
       "      <td>24962100</td>\n",
       "    </tr>\n",
       "    <tr>\n",
       "      <th>6</th>\n",
       "      <td>2023-01-10</td>\n",
       "      <td>27.400000</td>\n",
       "      <td>28.250000</td>\n",
       "      <td>27.150000</td>\n",
       "      <td>28.040001</td>\n",
       "      <td>28.040001</td>\n",
       "      <td>15413700</td>\n",
       "    </tr>\n",
       "    <tr>\n",
       "      <th>7</th>\n",
       "      <td>2023-01-11</td>\n",
       "      <td>28.240000</td>\n",
       "      <td>28.520000</td>\n",
       "      <td>27.920000</td>\n",
       "      <td>28.350000</td>\n",
       "      <td>28.350000</td>\n",
       "      <td>15421700</td>\n",
       "    </tr>\n",
       "    <tr>\n",
       "      <th>8</th>\n",
       "      <td>2023-01-12</td>\n",
       "      <td>28.850000</td>\n",
       "      <td>29.184999</td>\n",
       "      <td>28.200001</td>\n",
       "      <td>29.030001</td>\n",
       "      <td>29.030001</td>\n",
       "      <td>17513400</td>\n",
       "    </tr>\n",
       "    <tr>\n",
       "      <th>9</th>\n",
       "      <td>2023-01-13</td>\n",
       "      <td>28.680000</td>\n",
       "      <td>29.500000</td>\n",
       "      <td>28.660000</td>\n",
       "      <td>29.440001</td>\n",
       "      <td>29.440001</td>\n",
       "      <td>16940700</td>\n",
       "    </tr>\n",
       "  </tbody>\n",
       "</table>\n",
       "</div>"
      ],
      "text/plain": [
       "         Date       Open       High        Low      Close  Adj Close    Volume\n",
       "0  2022-12-30  24.420000  24.850000  24.240000  24.730000  24.730000  20474100\n",
       "1  2023-01-03  25.370001  25.750000  25.020000  25.360001  25.360001  22155300\n",
       "2  2023-01-04  25.730000  25.969999  25.320000  25.910000  25.910000  14816000\n",
       "3  2023-01-05  25.730000  26.010000  25.549999  25.549999  25.549999   9942000\n",
       "4  2023-01-06  25.860001  26.540001  25.400000  26.400000  26.400000  19443800\n",
       "5  2023-01-09  27.299999  28.049999  27.150000  27.400000  27.400000  24962100\n",
       "6  2023-01-10  27.400000  28.250000  27.150000  28.040001  28.040001  15413700\n",
       "7  2023-01-11  28.240000  28.520000  27.920000  28.350000  28.350000  15421700\n",
       "8  2023-01-12  28.850000  29.184999  28.200001  29.030001  29.030001  17513400\n",
       "9  2023-01-13  28.680000  29.500000  28.660000  29.440001  29.440001  16940700"
      ]
     },
     "execution_count": 61,
     "metadata": {},
     "output_type": "execute_result"
    }
   ],
   "source": [
    "df.head(10)"
   ]
  },
  {
   "cell_type": "code",
   "execution_count": 62,
   "metadata": {},
   "outputs": [
    {
     "data": {
      "text/html": [
       "<div>\n",
       "<style scoped>\n",
       "    .dataframe tbody tr th:only-of-type {\n",
       "        vertical-align: middle;\n",
       "    }\n",
       "\n",
       "    .dataframe tbody tr th {\n",
       "        vertical-align: top;\n",
       "    }\n",
       "\n",
       "    .dataframe thead th {\n",
       "        text-align: right;\n",
       "    }\n",
       "</style>\n",
       "<table border=\"1\" class=\"dataframe\">\n",
       "  <thead>\n",
       "    <tr style=\"text-align: right;\">\n",
       "      <th></th>\n",
       "      <th>Date</th>\n",
       "      <th>Open</th>\n",
       "      <th>High</th>\n",
       "      <th>Low</th>\n",
       "      <th>Close</th>\n",
       "      <th>Adj Close</th>\n",
       "      <th>Volume</th>\n",
       "    </tr>\n",
       "  </thead>\n",
       "  <tbody>\n",
       "    <tr>\n",
       "      <th>241</th>\n",
       "      <td>2023-12-15</td>\n",
       "      <td>62.160000</td>\n",
       "      <td>63.529999</td>\n",
       "      <td>61.410000</td>\n",
       "      <td>61.860001</td>\n",
       "      <td>61.860001</td>\n",
       "      <td>364231800</td>\n",
       "    </tr>\n",
       "    <tr>\n",
       "      <th>242</th>\n",
       "      <td>2023-12-18</td>\n",
       "      <td>62.009998</td>\n",
       "      <td>62.490002</td>\n",
       "      <td>61.330002</td>\n",
       "      <td>61.730000</td>\n",
       "      <td>61.730000</td>\n",
       "      <td>28614000</td>\n",
       "    </tr>\n",
       "    <tr>\n",
       "      <th>243</th>\n",
       "      <td>2023-12-19</td>\n",
       "      <td>61.880001</td>\n",
       "      <td>62.700001</td>\n",
       "      <td>61.689999</td>\n",
       "      <td>62.119999</td>\n",
       "      <td>62.119999</td>\n",
       "      <td>26813800</td>\n",
       "    </tr>\n",
       "    <tr>\n",
       "      <th>244</th>\n",
       "      <td>2023-12-20</td>\n",
       "      <td>61.490002</td>\n",
       "      <td>62.279999</td>\n",
       "      <td>60.619999</td>\n",
       "      <td>60.680000</td>\n",
       "      <td>60.680000</td>\n",
       "      <td>28286100</td>\n",
       "    </tr>\n",
       "    <tr>\n",
       "      <th>245</th>\n",
       "      <td>2023-12-21</td>\n",
       "      <td>61.240002</td>\n",
       "      <td>61.759998</td>\n",
       "      <td>60.825001</td>\n",
       "      <td>61.459999</td>\n",
       "      <td>61.459999</td>\n",
       "      <td>19999600</td>\n",
       "    </tr>\n",
       "    <tr>\n",
       "      <th>246</th>\n",
       "      <td>2023-12-22</td>\n",
       "      <td>61.700001</td>\n",
       "      <td>62.235001</td>\n",
       "      <td>61.279999</td>\n",
       "      <td>61.709999</td>\n",
       "      <td>61.709999</td>\n",
       "      <td>14709400</td>\n",
       "    </tr>\n",
       "    <tr>\n",
       "      <th>247</th>\n",
       "      <td>2023-12-26</td>\n",
       "      <td>61.709999</td>\n",
       "      <td>62.200001</td>\n",
       "      <td>61.313999</td>\n",
       "      <td>61.980000</td>\n",
       "      <td>61.980000</td>\n",
       "      <td>16077200</td>\n",
       "    </tr>\n",
       "    <tr>\n",
       "      <th>248</th>\n",
       "      <td>2023-12-27</td>\n",
       "      <td>62.000000</td>\n",
       "      <td>63.430000</td>\n",
       "      <td>62.000000</td>\n",
       "      <td>63.279999</td>\n",
       "      <td>63.279999</td>\n",
       "      <td>20806000</td>\n",
       "    </tr>\n",
       "    <tr>\n",
       "      <th>249</th>\n",
       "      <td>2023-12-28</td>\n",
       "      <td>63.450001</td>\n",
       "      <td>63.529999</td>\n",
       "      <td>62.834999</td>\n",
       "      <td>63.139999</td>\n",
       "      <td>63.139999</td>\n",
       "      <td>13795600</td>\n",
       "    </tr>\n",
       "    <tr>\n",
       "      <th>250</th>\n",
       "      <td>2023-12-29</td>\n",
       "      <td>62.360001</td>\n",
       "      <td>63.139999</td>\n",
       "      <td>61.299999</td>\n",
       "      <td>61.570000</td>\n",
       "      <td>61.570000</td>\n",
       "      <td>21602500</td>\n",
       "    </tr>\n",
       "  </tbody>\n",
       "</table>\n",
       "</div>"
      ],
      "text/plain": [
       "           Date       Open       High        Low      Close  Adj Close  \\\n",
       "241  2023-12-15  62.160000  63.529999  61.410000  61.860001  61.860001   \n",
       "242  2023-12-18  62.009998  62.490002  61.330002  61.730000  61.730000   \n",
       "243  2023-12-19  61.880001  62.700001  61.689999  62.119999  62.119999   \n",
       "244  2023-12-20  61.490002  62.279999  60.619999  60.680000  60.680000   \n",
       "245  2023-12-21  61.240002  61.759998  60.825001  61.459999  61.459999   \n",
       "246  2023-12-22  61.700001  62.235001  61.279999  61.709999  61.709999   \n",
       "247  2023-12-26  61.709999  62.200001  61.313999  61.980000  61.980000   \n",
       "248  2023-12-27  62.000000  63.430000  62.000000  63.279999  63.279999   \n",
       "249  2023-12-28  63.450001  63.529999  62.834999  63.139999  63.139999   \n",
       "250  2023-12-29  62.360001  63.139999  61.299999  61.570000  61.570000   \n",
       "\n",
       "        Volume  \n",
       "241  364231800  \n",
       "242   28614000  \n",
       "243   26813800  \n",
       "244   28286100  \n",
       "245   19999600  \n",
       "246   14709400  \n",
       "247   16077200  \n",
       "248   20806000  \n",
       "249   13795600  \n",
       "250   21602500  "
      ]
     },
     "execution_count": 62,
     "metadata": {},
     "output_type": "execute_result"
    }
   ],
   "source": [
    "df.tail(10)"
   ]
  },
  {
   "cell_type": "code",
   "execution_count": 63,
   "metadata": {},
   "outputs": [
    {
     "name": "stdout",
     "output_type": "stream",
     "text": [
      "<class 'pandas.core.frame.DataFrame'>\n",
      "RangeIndex: 251 entries, 0 to 250\n",
      "Data columns (total 7 columns):\n",
      " #   Column     Non-Null Count  Dtype  \n",
      "---  ------     --------------  -----  \n",
      " 0   Date       251 non-null    object \n",
      " 1   Open       251 non-null    float64\n",
      " 2   High       251 non-null    float64\n",
      " 3   Low        251 non-null    float64\n",
      " 4   Close      251 non-null    float64\n",
      " 5   Adj Close  251 non-null    float64\n",
      " 6   Volume     251 non-null    int64  \n",
      "dtypes: float64(5), int64(1), object(1)\n",
      "memory usage: 13.9+ KB\n"
     ]
    }
   ],
   "source": [
    "df.info()"
   ]
  },
  {
   "cell_type": "code",
   "execution_count": 64,
   "metadata": {},
   "outputs": [],
   "source": [
    "df[\"Date\"]=pd.to_datetime(df[\"Date\"])"
   ]
  },
  {
   "cell_type": "code",
   "execution_count": 65,
   "metadata": {},
   "outputs": [
    {
     "name": "stdout",
     "output_type": "stream",
     "text": [
      "<class 'pandas.core.frame.DataFrame'>\n",
      "RangeIndex: 251 entries, 0 to 250\n",
      "Data columns (total 7 columns):\n",
      " #   Column     Non-Null Count  Dtype         \n",
      "---  ------     --------------  -----         \n",
      " 0   Date       251 non-null    datetime64[ns]\n",
      " 1   Open       251 non-null    float64       \n",
      " 2   High       251 non-null    float64       \n",
      " 3   Low        251 non-null    float64       \n",
      " 4   Close      251 non-null    float64       \n",
      " 5   Adj Close  251 non-null    float64       \n",
      " 6   Volume     251 non-null    int64         \n",
      "dtypes: datetime64[ns](1), float64(5), int64(1)\n",
      "memory usage: 13.9 KB\n"
     ]
    }
   ],
   "source": [
    "df.info()"
   ]
  },
  {
   "cell_type": "markdown",
   "metadata": {},
   "source": [
    "Close column contains the values whose future values we want to predict. So let’s have a closer look at the historical close prices of Microsoft’s stock price:"
   ]
  },
  {
   "cell_type": "code",
   "execution_count": 66,
   "metadata": {},
   "outputs": [
    {
     "data": {
      "image/png": "[encoded data removed]",
      "text/plain": [
       "<Figure size 1000x400 with 1 Axes>"
      ]
     },
     "metadata": {},
     "output_type": "display_data"
    }
   ],
   "source": [
    "plt.figure(figsize=(10, 4))\n",
    "plt.title(\"Uber Stock Prices\")\n",
    "plt.xlabel(\"Date\")\n",
    "plt.ylabel(\"Close\")\n",
    "plt.plot(df[\"Close\"])\n",
    "plt.show()\n",
    "\n"
   ]
  },
  {
   "cell_type": "markdown",
   "metadata": {},
   "source": [
    "looking at the correlation between the features of this dataset:"
   ]
  },
  {
   "cell_type": "code",
   "execution_count": 67,
   "metadata": {},
   "outputs": [
    {
     "name": "stderr",
     "output_type": "stream",
     "text": [
      "C:\\Users\\DELL\\AppData\\Local\\Temp\\ipykernel_16400\\2458726984.py:1: FutureWarning: The default value of numeric_only in DataFrame.corr is deprecated. In a future version, it will default to False. Select only valid columns or specify the value of numeric_only to silence this warning.\n",
      "  print(df.corr())\n",
      "C:\\Users\\DELL\\AppData\\Local\\Temp\\ipykernel_16400\\2458726984.py:2: FutureWarning: The default value of numeric_only in DataFrame.corr is deprecated. In a future version, it will default to False. Select only valid columns or specify the value of numeric_only to silence this warning.\n",
      "  sns.heatmap(df.corr())\n"
     ]
    },
    {
     "name": "stdout",
     "output_type": "stream",
     "text": [
      "               Open      High       Low     Close  Adj Close    Volume\n",
      "Open       1.000000  0.998216  0.998544  0.996247   0.996247  0.166012\n",
      "High       0.998216  1.000000  0.998530  0.998729   0.998729  0.175550\n",
      "Low        0.998544  0.998530  1.000000  0.998346   0.998346  0.156020\n",
      "Close      0.996247  0.998729  0.998346  1.000000   1.000000  0.165777\n",
      "Adj Close  0.996247  0.998729  0.998346  1.000000   1.000000  0.165777\n",
      "Volume     0.166012  0.175550  0.156020  0.165777   0.165777  1.000000\n"
     ]
    },
    {
     "data": {
      "image/png": "[encoded data removed]",
      "text/plain": [
       "<Figure size 640x480 with 2 Axes>"
      ]
     },
     "metadata": {},
     "output_type": "display_data"
    }
   ],
   "source": [
    "print(df.corr())\n",
    "sns.heatmap(df.corr())\n",
    "plt.show()"
   ]
  },
  {
   "cell_type": "markdown",
   "metadata": {},
   "source": [
    "I will prepare the data to fit into the machine learning model. In this step, I will first add the most important features to x and the target column to y, and then I will divide the dataset into training and test sets:"
   ]
  },
  {
   "cell_type": "code",
   "execution_count": 68,
   "metadata": {},
   "outputs": [],
   "source": [
    "x = df[[\"Open\", \"High\", \"Low\"]]\n",
    "y = df[\"Close\"]\n",
    "x = x.to_numpy()\n",
    "y = y.to_numpy()\n",
    "y = y.reshape(-1, 1)\n",
    "\n",
    "from sklearn.model_selection import train_test_split\n",
    "xtrain, xtest, ytrain, ytest = train_test_split(x, y, test_size=0.2, random_state=42)"
   ]
  },
  {
   "cell_type": "markdown",
   "metadata": {},
   "source": [
    "Using the Decision Tree Regression Algorithm to train the Uber Stock Price prediction model and have a look at the predicted stock prices for the next 5 days:"
   ]
  },
  {
   "cell_type": "code",
   "execution_count": 69,
   "metadata": {},
   "outputs": [
    {
     "name": "stdout",
     "output_type": "stream",
     "text": [
      "   Predicted Rate\n",
      "0       44.349998\n",
      "1       27.400000\n",
      "2       43.830002\n",
      "3       30.070000\n",
      "4       41.410000\n"
     ]
    }
   ],
   "source": [
    "from sklearn.tree import DecisionTreeRegressor\n",
    "model = DecisionTreeRegressor()\n",
    "model.fit(xtrain, ytrain)\n",
    "ypred = model.predict(xtest)\n",
    "data = pd.DataFrame(data={\"Predicted Rate\": ypred})\n",
    "print(data.head())"
   ]
  },
  {
   "cell_type": "markdown",
   "metadata": {},
   "source": [
    "Calculating the models score."
   ]
  },
  {
   "cell_type": "code",
   "execution_count": 70,
   "metadata": {},
   "outputs": [
    {
     "data": {
      "text/plain": [
       "0.9919436554629808"
      ]
     },
     "execution_count": 70,
     "metadata": {},
     "output_type": "execute_result"
    }
   ],
   "source": [
    "score = model.score(xtest, ytest)\n",
    "score"
   ]
  }
 ],
 "metadata": {
  "kernelspec": {
   "display_name": "base",
   "language": "python",
   "name": "python3"
  },
  "language_info": {
   "codemirror_mode": {
    "name": "ipython",
    "version": 3
   },
   "file_extension": ".py",
   "mimetype": "text/x-python",
   "name": "python",
   "nbconvert_exporter": "python",
   "pygments_lexer": "ipython3",
   "version": "3.10.9"
  }
 },
 "nbformat": 4,
 "nbformat_minor": 2
}
